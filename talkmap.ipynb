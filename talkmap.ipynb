{
 "cells": [
  {
   "cell_type": "markdown",
   "metadata": {},
   "source": [
    "# Leaflet cluster map of talk locations\n",
    "\n",
    "Assuming you are working in a Linux or Windows Subsystem for Linux environment, you may need to install some dependencies. Assuming a clean installation, the following will be needed:\n",
    "\n",
    "```bash\n",
    "sudo apt install jupyter\n",
    "sudo apt install python3-pip\n",
    "pip install python-frontmatter getorg --upgrade\n",
    "```\n",
    "\n",
    "After which you can run this from the `_talks/` directory, via:\n",
    "\n",
    "```bash\n",
    " jupyter nbconvert --to notebook --execute talkmap.ipynb --output talkmap_out.ipynb\n",
    "```\n",
    " \n",
    "The `_talks/` directory contains `.md` files of all your talks. This scrapes the location YAML field from each `.md` file, geolocates it with `geopy/Nominatim`, and uses the `getorg` library to output data, HTML, and Javascript for a standalone cluster map."
   ]
  },
  {
   "cell_type": "code",
   "execution_count": 2,
   "metadata": {
    "collapsed": false,
    "jupyter": {
     "outputs_hidden": false
    }
   },
   "outputs": [
    {
     "name": "stdout",
     "output_type": "stream",
     "text": [
      "Requirement already satisfied: python-frontmatter in /home/ai/anaconda3/lib/python3.9/site-packages (1.1.0)\n",
      "\u001b[33mWARNING: Retrying (Retry(total=4, connect=None, read=None, redirect=None, status=None)) after connection broken by 'NewConnectionError('<pip._vendor.urllib3.connection.HTTPSConnection object at 0x7f3b94510670>: Failed to establish a new connection: [Errno -3] Temporary failure in name resolution')': /simple/python-frontmatter/\u001b[0m\u001b[33m\n",
      "\u001b[0m\u001b[33mWARNING: Retrying (Retry(total=3, connect=None, read=None, redirect=None, status=None)) after connection broken by 'NewConnectionError('<pip._vendor.urllib3.connection.HTTPSConnection object at 0x7f3b94510970>: Failed to establish a new connection: [Errno -3] Temporary failure in name resolution')': /simple/python-frontmatter/\u001b[0m\u001b[33m\n",
      "\u001b[0m\u001b[33mWARNING: Retrying (Retry(total=2, connect=None, read=None, redirect=None, status=None)) after connection broken by 'NewConnectionError('<pip._vendor.urllib3.connection.HTTPSConnection object at 0x7f3b94510b20>: Failed to establish a new connection: [Errno -3] Temporary failure in name resolution')': /simple/python-frontmatter/\u001b[0m\u001b[33m\n",
      "\u001b[0m\u001b[33mWARNING: Retrying (Retry(total=1, connect=None, read=None, redirect=None, status=None)) after connection broken by 'NewConnectionError('<pip._vendor.urllib3.connection.HTTPSConnection object at 0x7f3b94510cd0>: Failed to establish a new connection: [Errno -3] Temporary failure in name resolution')': /simple/python-frontmatter/\u001b[0m\u001b[33m\n",
      "\u001b[0m\u001b[33mWARNING: Retrying (Retry(total=0, connect=None, read=None, redirect=None, status=None)) after connection broken by 'NewConnectionError('<pip._vendor.urllib3.connection.HTTPSConnection object at 0x7f3b94510eb0>: Failed to establish a new connection: [Errno -3] Temporary failure in name resolution')': /simple/python-frontmatter/\u001b[0m\u001b[33m\n",
      "\u001b[0mRequirement already satisfied: getorg in /home/ai/anaconda3/lib/python3.9/site-packages (0.3.1)\n",
      "\u001b[33mWARNING: Retrying (Retry(total=4, connect=None, read=None, redirect=None, status=None)) after connection broken by 'NewConnectionError('<pip._vendor.urllib3.connection.HTTPSConnection object at 0x7f3b9448fb20>: Failed to establish a new connection: [Errno -3] Temporary failure in name resolution')': /simple/getorg/\u001b[0m\u001b[33m\n",
      "\u001b[0m\u001b[33mWARNING: Retrying (Retry(total=3, connect=None, read=None, redirect=None, status=None)) after connection broken by 'NewConnectionError('<pip._vendor.urllib3.connection.HTTPSConnection object at 0x7f3b9448ffd0>: Failed to establish a new connection: [Errno -3] Temporary failure in name resolution')': /simple/getorg/\u001b[0m\u001b[33m\n",
      "\u001b[0m\u001b[33mWARNING: Retrying (Retry(total=2, connect=None, read=None, redirect=None, status=None)) after connection broken by 'NewConnectionError('<pip._vendor.urllib3.connection.HTTPSConnection object at 0x7f3b9448ff10>: Failed to establish a new connection: [Errno -3] Temporary failure in name resolution')': /simple/getorg/\u001b[0m\u001b[33m\n",
      "\u001b[0m\u001b[33mWARNING: Retrying (Retry(total=1, connect=None, read=None, redirect=None, status=None)) after connection broken by 'NewConnectionError('<pip._vendor.urllib3.connection.HTTPSConnection object at 0x7f3b94493370>: Failed to establish a new connection: [Errno -3] Temporary failure in name resolution')': /simple/getorg/\u001b[0m\u001b[33m\n",
      "\u001b[0m\u001b[33mWARNING: Retrying (Retry(total=0, connect=None, read=None, redirect=None, status=None)) after connection broken by 'NewConnectionError('<pip._vendor.urllib3.connection.HTTPSConnection object at 0x7f3b94493520>: Failed to establish a new connection: [Errno -3] Temporary failure in name resolution')': /simple/getorg/\u001b[0m\u001b[33m\n",
      "\u001b[0mRequirement already satisfied: PyYAML in /home/ai/anaconda3/lib/python3.9/site-packages (from python-frontmatter) (6.0.1)\n",
      "Requirement already satisfied: geopy in /home/ai/anaconda3/lib/python3.9/site-packages (from getorg) (2.4.1)\n",
      "Requirement already satisfied: pygithub in /home/ai/anaconda3/lib/python3.9/site-packages (from getorg) (2.7.0)\n",
      "Requirement already satisfied: retrying in /home/ai/anaconda3/lib/python3.9/site-packages (from getorg) (1.4.2)\n",
      "Requirement already satisfied: geographiclib<3,>=1.52 in /home/ai/anaconda3/lib/python3.9/site-packages (from geopy->getorg) (2.0)\n",
      "Requirement already satisfied: pynacl>=1.4.0 in /home/ai/anaconda3/lib/python3.9/site-packages (from pygithub->getorg) (1.5.0)\n",
      "Requirement already satisfied: requests>=2.14.0 in /home/ai/anaconda3/lib/python3.9/site-packages (from pygithub->getorg) (2.32.3)\n",
      "Requirement already satisfied: pyjwt>=2.4.0 in /home/ai/anaconda3/lib/python3.9/site-packages (from pyjwt[crypto]>=2.4.0->pygithub->getorg) (2.8.0)\n",
      "Requirement already satisfied: typing-extensions>=4.5.0 in /home/ai/anaconda3/lib/python3.9/site-packages (from pygithub->getorg) (4.11.0)\n",
      "Requirement already satisfied: urllib3>=1.26.0 in /home/ai/anaconda3/lib/python3.9/site-packages (from pygithub->getorg) (1.26.19)\n",
      "Requirement already satisfied: cryptography>=3.4.0 in /home/ai/anaconda3/lib/python3.9/site-packages (from pyjwt[crypto]>=2.4.0->pygithub->getorg) (43.0.0)\n",
      "Requirement already satisfied: cffi>=1.12 in /home/ai/anaconda3/lib/python3.9/site-packages (from cryptography>=3.4.0->pyjwt[crypto]>=2.4.0->pygithub->getorg) (1.16.0)\n",
      "Requirement already satisfied: pycparser in /home/ai/anaconda3/lib/python3.9/site-packages (from cffi>=1.12->cryptography>=3.4.0->pyjwt[crypto]>=2.4.0->pygithub->getorg) (2.21)\n",
      "Requirement already satisfied: charset-normalizer<4,>=2 in /home/ai/anaconda3/lib/python3.9/site-packages (from requests>=2.14.0->pygithub->getorg) (3.3.2)\n",
      "Requirement already satisfied: idna<4,>=2.5 in /home/ai/anaconda3/lib/python3.9/site-packages (from requests>=2.14.0->pygithub->getorg) (3.7)\n",
      "Requirement already satisfied: certifi>=2017.4.17 in /home/ai/anaconda3/lib/python3.9/site-packages (from requests>=2.14.0->pygithub->getorg) (2025.6.15)\n",
      "\u001b[33mWARNING: Error parsing dependencies of pip: [Errno 2] No such file or directory: '/home/ai/anaconda3/lib/python3.9/site-packages/pip-24.2.dist-info/METADATA'\u001b[0m\u001b[33m\n",
      "\u001b[0m\u001b[33mWARNING: Error parsing dependencies of platformdirs: [Errno 2] No such file or directory: '/home/ai/anaconda3/lib/python3.9/site-packages/platformdirs-2.5.2.dist-info/METADATA'\u001b[0m\u001b[33m\n",
      "\u001b[0mIywidgets and ipyleaflet support disabled. You must be in a Jupyter notebook to use this feature.\n",
      "Error raised:\n",
      "No module named 'ipyleaflet'\n",
      "Check that you have enabled ipyleaflet in Jupyter with:\n",
      "    jupyter nbextension enable --py ipyleaflet\n"
     ]
    }
   ],
   "source": [
    "# Start by installing the dependencies\n",
    "!pip install python-frontmatter getorg --upgrade\n",
    "import json\n",
    "import frontmatter\n",
    "import glob\n",
    "import getorg\n",
    "from geopy import Nominatim\n",
    "from geopy.exc import GeocoderTimedOut"
   ]
  },
  {
   "cell_type": "code",
   "execution_count": 36,
   "metadata": {},
   "outputs": [],
   "source": [
    "def add_with_link(talk, key):\n",
    "    url_key = \"url_\" + key\n",
    "    if url_key in talk:\n",
    "        url = talk[url_key]\n",
    "        return f'<a href=\"{url}\" target=\"_blank\" rel=\"noopener noreferrer\">{talk[key]}</a>'\n",
    "    else:\n",
    "        return talk[key]\n",
    "\n",
    "def center(string):\n",
    "    return '<p style=\"text-align: center\"> ' + string + ' </p>'"
   ]
  },
  {
   "cell_type": "code",
   "execution_count": 41,
   "metadata": {},
   "outputs": [
    {
     "name": "stdout",
     "output_type": "stream",
     "text": [
      "<p style=\"text-align: center\"> Upcoming: 28/10/2025<br>Generalization performance of narrow one-hidden layer networks in the teacher-student setting<br><a href=\"https://ui.ungpd.com/Events/60bfc7b5-c9d0-4e3e-9aec-1a6a62e1e805\" target=\"_blank\" rel=\"noopener noreferrer\">2025 CHAIR Structured Learning Workshop</a><br><a href=\"https://www.chalmers.se/en/\" target=\"_blank\" rel=\"noopener noreferrer\">Chalmers University of Technology</a> </p> Göteborg, Göteborgs Stad, Västra Götalands län, 411 10, Sverige\n",
      "<p style=\"text-align: center\"> 17/07/2025<br>Statistical Mechanics of transfer learning in the proportional regime<br><a href=\"https://statphys29.org/\" target=\"_blank\" rel=\"noopener noreferrer\">Statphys29</a> </p> Firenze, Toscana, Italia\n",
      "<p style=\"text-align: center\"> 10/07/2025<br>Statistical Mechanics of transfer learning in the proportional regime<br><a href=\"https://bidsa.unibocconi.eu/learning-and-optimization-high-dimensions-statphys29-satellite-workshop\" target=\"_blank\" rel=\"noopener noreferrer\">Learning and Optimization in High Dimensions (StatPhys29 Satellite Workshop)</a><br><a href=\"https://www.unibocconi.it/en\" target=\"_blank\" rel=\"noopener noreferrer\">Bocconi University</a> </p> Milano, Lombardia, Italia\n",
      "<p style=\"text-align: center\"> 30/01/2025<br>Statistical Mechanics of transfer learning in the proportional regime<br><a href=\"https://ias.uva.nl/content/events/2025/01/diep-seminar-series---statistical-mechanics-of-transfer-learning-in-the-proportional-limit.html\" target=\"_blank\" rel=\"noopener noreferrer\">Invited seminar at Dutch Institute for Emergent Phenomena (DIEP)</a><br><a href=\"https://ias.uva.nl/\" target=\"_blank\" rel=\"noopener noreferrer\">Institute of Advanced Studies</a><br><a href=\"https://youtu.be/NHzYJUFbOzw?si=V6fC53YYxevduMAL\" target=\"_blank\" rel=\"noopener noreferrer\">Video</a> </p> Amsterdam, Noord-Holland, Nederland\n",
      "<p style=\"text-align: center\"> 30-01-2025<br>Statistical Mechanics of transfer learning in the proportional regime<br><a href=\"https://bri.ucla.edu/events/special-seminar-alessandro-ingrosso-ph-d/\" target=\"_blank\" rel=\"noopener noreferrer\">Neurotheory Seminar</a><br><a href=\"https://neurobio.ucla.edu/\" target=\"_blank\" rel=\"noopener noreferrer\">UCLA</a> </p> Los Angeles, Los Angeles County, California, United States\n",
      "<p style=\"text-align: center\"> 30-01-2025<br>Statistical Mechanics of transfer learning in the proportional regime<br><a href=\"https://deepmath-conference.com/\" target=\"_blank\" rel=\"noopener noreferrer\">DeepMath2024</a><br><a href=\"https://www.upenn.edu/\" target=\"_blank\" rel=\"noopener noreferrer\">Penn University</a><br><a href=\"https://www.youtube.com/live/A0Oh5sLL2v8?si=rIDizd7Zim3LdDqS&t=23553\" target=\"_blank\" rel=\"noopener noreferrer\">Video</a> </p> Philadelphia, Philadelphia County, Pennsylvania, United States\n",
      "<p style=\"text-align: center\"> 12/06/2025<br>Statistical Mechanics of transfer learning in the proportional regime<br>Invited seminar<br><a href=\"https://www.institut-vision.org/en\" target=\"_blank\" rel=\"noopener noreferrer\">Institute de la Vision</a> </p> Paris, Île-de-France, France métropolitaine, France\n",
      "<p style=\"text-align: center\"> 31/03/2025<br>Statistical Mechanics of transfer learning in the proportional regime<br><a href=\"https://qbio.ens.psl.eu/en/events/external-seminar-alessandro-ingrosso-radboud-university-nl\" target=\"_blank\" rel=\"noopener noreferrer\">Invited seminar</a><br><a href=\"https://qbio.ens.psl.eu/en\" target=\"_blank\" rel=\"noopener noreferrer\">QBIO, Ecole Normale Superieure</a> </p> Paris, Île-de-France, France métropolitaine, France\n",
      "<p style=\"text-align: center\"> 07/02/2025<br>Statistical Mechanics of transfer learning in the proportional regime<br>Invited seminar<br><a href=\"https://math.unibo.it/en\" target=\"_blank\" rel=\"noopener noreferrer\">University of Bologna, Department of Mathematics</a> </p> Bologna, Emilia-Romagna, Italia\n",
      "<p style=\"text-align: center\"> 31/03/2025<br>Statistical Mechanics of transfer learning in the proportional regime<br><a href=\"https://ctn.zuckermaninstitute.columbia.edu/\" target=\"_blank\" rel=\"noopener noreferrer\">Seminar at the Center for theoretical neuroscience</a><br><a href=\"https://zuckermaninstitute.columbia.edu/\" target=\"_blank\" rel=\"noopener noreferrer\">Zuckerman Institute, Columbia University</a> </p> City of New York, New York, United States\n",
      "<p style=\"text-align: center\"> 28-08/2024<br>Statistical Mechanics of transfer learning in the proportional regime<br><a href=\"https://www.aisociety-unipd.it/autumn-physics-of-data-workshop-2024/\" target=\"_blank\" rel=\"noopener noreferrer\">Autumn Physics of Data Workshop 2024</a> </p> Asiago, Vicenza, Veneto, 36012, Italia\n",
      "<p style=\"text-align: center\"> 2-6/9/2024<br>Statistical Mechanics of transfer learning in the proportional regime<br><a href=\"https://sites.google.com/view/rockin-ai/home-page\" target=\"_blank\" rel=\"noopener noreferrer\">ROccella Conference on INference and AI - ROCKIN’ AI 2024</a> </p> Roccella Ionica, Reggio Calabria, Calabria, 89047, Italia\n",
      "<p style=\"text-align: center\"> 09/07/2024<br>Data-driven emergence of convolutional structure in neural networks<br><a href=\"https://cbs.riken.jp/en/faculty/t.toyoizumi/\" target=\"_blank\" rel=\"noopener noreferrer\">Invited Seminar at Taro Toyoizumi's lab</a><br><a href=\"https://www.riken.jp/en/\" target=\"_blank\" rel=\"noopener noreferrer\">RIKEN</a> </p> 東京都, 日本\n",
      "<p style=\"text-align: center\"> 10-14/06/2024<br>Machine learning at the mesoscale: A computation-dissipation bottleneck<br><a href=\"https://spdl2.lakecomoschool.org/\" target=\"_blank\" rel=\"noopener noreferrer\">Statistical Physics of Deep Learning summer school</a><br><a href=\"https://lakecomoschool.org/\" target=\"_blank\" rel=\"noopener noreferrer\">Lake Como School of Advanced Studies</a> </p> Como, Lombardia, Italia\n",
      "<p style=\"text-align: center\"> 1/11/2023<br>Machine learning at the mesoscale: A computation-dissipation bottleneck<br>Invited seminar<br><a href=\"https://smfi.unipr.it/en\" target=\"_blank\" rel=\"noopener noreferrer\">University of Parma, Department of Physics</a> </p> Parma, Emilia-Romagna, Italia\n",
      "<p style=\"text-align: center\"> 9-20/1/2023<br>Lecture: The shortest possible introduction to learning in recurrent neural networks<br><a href=\"http://profesores.elo.utfsm.cl/~mjescobar/LACONEU/index.html\" target=\"_blank\" rel=\"noopener noreferrer\">Latin American Summer School in Computational Neuroscience</a> </p> Región de Valparaíso, Chile\n",
      "<p style=\"text-align: center\"> 07-08/09/2023<br>Data-driven emergence of convolutional structure in neural networks<br><a href=\"https://www.analytical-connectionism.net/workshop/2023-analytical-connectionism/\" target=\"_blank\" rel=\"noopener noreferrer\">Analytical Connectionism Workshop</a><br><a href=\"https://www.ucl.ac.uk/gatsby/\" target=\"_blank\" rel=\"noopener noreferrer\">Gatsby Computational Neuroscience Unit, UCL</a> </p> London, Greater London, England, United Kingdom\n",
      "<p style=\"text-align: center\"> 21-23/6/2023<br>Data-driven emergence of convolutional structure in neural networks<br><a href=\"https://www.fisicastatistica.unipr.it/conf/PARMA2023/welcome_E.php\" target=\"_blank\" rel=\"noopener noreferrer\">III Conference of the Italian Society of Statistical Physics - SIFS</a> </p> Parma, Emilia-Romagna, Italia\n",
      "<p style=\"text-align: center\"> 4-5/6/2023<br>Data-driven emergence of convolutional structure in neural networks<br>Joint QLS-SBP Workshop<br><a href=\"https://sbp.physics.unitn.it/\" target=\"_blank\" rel=\"noopener noreferrer\">University of Trento, Department of Physics</a> </p> Provincia di Trento, Trentino-Alto Adige/Südtirol, Italia\n",
      "<p style=\"text-align: center\"> 20-24/02/2023<br>Data-driven emergence of convolutional structure in neural networks<br><a href=\"https://statphysneuro.github.io/\" target=\"_blank\" rel=\"noopener noreferrer\">Workshop: Towards a theory of artificial and biological neural networks</a><br><a href=\"https://www.houches-school-physics.com/\" target=\"_blank\" rel=\"noopener noreferrer\">Les Houches School of Physics</a> </p> Les Houches, Bonneville, Haute-Savoie, Auvergne-Rhône-Alpes, France métropolitaine, 74310, France\n",
      "<p style=\"text-align: center\"> 29/04/2022<br>Data-driven emergence of convolutional structure in neural networks<br><a href=\"https://www.amii.ca/\" target=\"_blank\" rel=\"noopener noreferrer\">Artificial Intelligence Seminar (online)</a><br>Alberta Machine Intelligence Institute, University of Alberta<br><a href=\"https://www.youtube.com/watch?v=UBzDVy8a0LM\" target=\"_blank\" rel=\"noopener noreferrer\">Video</a> </p> Alberta, Canada\n",
      "<p style=\"text-align: center\"> 24/11/2022<br>Data-driven emergence of convolutional structure in neural networks<br>Seminar at Yasser Roudi's lab (online)<br><a href=\"https://www.ntnu.edu/kavli\" target=\"_blank\" rel=\"noopener noreferrer\">Kavli Institute for System Neuroscience</a> </p> Trondheim, Trøndelag, Norge\n",
      "<p style=\"text-align: center\"> 12-16/06/2022<br>Data-driven emergence of convolutional structure in neural networks<br><a href=\"https://meco47.sciencesconf.org/\" target=\"_blank\" rel=\"noopener noreferrer\">MECO47 Conference</a> </p> Erice, Trapani, Sicilia, 91016, Italia\n",
      "<p style=\"text-align: center\"> 3/12/2022<br>Data-driven emergence of convolutional structure in neural networks (poster)<br><a href=\"https://www.neurreps.org/\" target=\"_blank\" rel=\"noopener noreferrer\">NeurReps Workshop - Symmetry and Geometry in Neural Representations</a> </p> New Orleans, Orleans Parish, Louisiana, United States\n",
      "<p style=\"text-align: center\"> 17-18/10/2022<br>Data-driven emergence of convolutional structure in neural networks (poster)<br><a href=\"https://deepmath-conference.com/past-conferences\" target=\"_blank\" rel=\"noopener noreferrer\">DeepMath 2022</a> </p> San Diego, San Diego County, California, United States\n",
      "<p style=\"text-align: center\"> 21/9/2022<br>Data-driven emergence of convolutional structure in neural networks<br><a href=\"https://sbp.physics.unitn.it/\" target=\"_blank\" rel=\"noopener noreferrer\">Statistical and Biological Physics group seminar</a><br><a href=\"https://www.physics.unitn.it/en\" target=\"_blank\" rel=\"noopener noreferrer\">University of Trento, Department of Physics</a> </p> Provincia di Trento, Trentino-Alto Adige/Südtirol, Italia\n",
      "<p style=\"text-align: center\"> 23/11/2022<br>Data-driven emergence of convolutional structure in neural networks<br>Data Science Seminar<br><a href=\"https://df.units.it/en\" target=\"_blank\" rel=\"noopener noreferrer\">University of Trieste, Department of Physics</a> </p> Trieste, Friuli-Venezia Giulia, 34121-34151, Italia\n",
      "<p style=\"text-align: center\"> 19-21/12/2022<br>Data-driven emergence of convolutional structure in neural networks<br><a href=\"https://agenda.infn.it/event/28754/\" target=\"_blank\" rel=\"noopener noreferrer\">Workshop on Statistical Mechanics and nonpertubative Field Theory</a><br><a href=\"https://www.uniba.it/it/ricerca/dipartimenti/fisica\" target=\"_blank\" rel=\"noopener noreferrer\">University of Bari, Department of Physics</a> </p> Bari, Puglia, Italia\n",
      "<p style=\"text-align: center\"> 6-8/6/2022<br>Data-driven emergence of convolutional structure in neural networks<br>Workshop on Neuroscience and Statistical Physics<br><a href=\"https://www.sissa.it/\" target=\"_blank\" rel=\"noopener noreferrer\">SISSA</a> </p> Trieste, Friuli-Venezia Giulia, 34121-34151, Italia\n",
      "<p style=\"text-align: center\"> 6/4/2022<br>Data-driven emergence of convolutional structure in neural networks<br><a href=\"https://www.unibocconi.it/en/programs/master-science/artificial-intelligence\" target=\"_blank\" rel=\"noopener noreferrer\">Seminar at Artificial Intelligence Group</a><br><a href=\"https://www.unibocconi.it/en\" target=\"_blank\" rel=\"noopener noreferrer\">Bocconi University</a> </p> Milano, Lombardia, Italia\n",
      "<p style=\"text-align: center\"> 15-18/6/2021<br>Optimal Learning with Excitatory and Inhibitory Synapses<br><a href=\"https://indico.ictp.it/event/9596/\" target=\"_blank\" rel=\"noopener noreferrer\">Youth in High-Dimensions 2021</a><br><a href=\"https://www.ictp.it/\" target=\"_blank\" rel=\"noopener noreferrer\">ICTP</a><br><a href=\"https://video.ictp.it/WEB/2021/2021_06_15-smr3602/2021_06_17-16_50-smr3602.mp4\" target=\"_blank\" rel=\"noopener noreferrer\">Video</a> </p> Trieste, Friuli-Venezia Giulia, 34121-34151, Italia\n",
      "<p style=\"text-align: center\"> 21-24/7/2019<br>Optimal learning with excitatory and inhibitory synapses<br>Swartz Foundation Annual Meeting<br><a href=\"https://www.janelia.org/\" target=\"_blank\" rel=\"noopener noreferrer\">Janelia Research Campus</a> </p> Lansdowne, Loudoun County, Virginia, United States\n",
      "<p style=\"text-align: center\"> 17-20/03/2022<br>Emergence of convolutional structure in neural circuits (poster)<br><a href=\"https://www.cosyne.org/past-conferences\" target=\"_blank\" rel=\"noopener noreferrer\">COSYNE 2022</a> </p> Lisboa, Portugal\n",
      "<p style=\"text-align: center\"> 1-6/3/2018<br>Training recurrent networks of excitatory/inhibitory spiking or rate neurons (poster)<br><a href=\"https://www.cosyne.org/past-conferences\" target=\"_blank\" rel=\"noopener noreferrer\">COSYNE 2018</a> </p> Denver, Colorado, United States\n",
      "<p style=\"text-align: center\"> 9/3/2016<br>Local entropy maximization and efficient learning algorithms for neural networks<br><a href=\"https://www.epfl.ch/labs/lcn/events-html/computationalneuroscienceseminars/\" target=\"_blank\" rel=\"noopener noreferrer\">Computational Neuroscience Seminar (invited by Wulfram Gerstner)</a><br><a href=\"https://www.epfl.ch/en/\" target=\"_blank\" rel=\"noopener noreferrer\">EPFL</a> </p> Lausanne, District de Lausanne, Vaud, Schweiz/Suisse/Svizzera/Svizra\n",
      "<p style=\"text-align: center\"> 29/6/2015 – 1/7/2015<br>The patient-zero problem: a Bayesian perspective (poster)<br>XX National Conference on Statistical Mechanics and Complex Systems </p> Parma, Emilia-Romagna, Italia\n",
      "<p style=\"text-align: center\"> 2-6/6/2014<br>The patient-zero problem with noisy observations (poster)<br><a href=\"https://netscisociety.net/events/netsci\" target=\"_blank\" rel=\"noopener noreferrer\">NetSci 2014</a> </p> Berkeley, Alameda County, California, United States\n"
     ]
    },
    {
     "data": {
      "text/plain": [
       "'Written map to talkmap/'"
      ]
     },
     "execution_count": 41,
     "metadata": {},
     "output_type": "execute_result"
    }
   ],
   "source": [
    "# read talk list from json file\n",
    "with open('_talks/talk_list.json') as json_file:\n",
    "    data = json.load(json_file)\n",
    "\n",
    "# Set the default timeout, in seconds\n",
    "TIMEOUT = 5\n",
    "\n",
    "# Prepare to geolocate\n",
    "geocoder = Nominatim(user_agent=\"aleingrosso.github.io\")\n",
    "location_dict = {}\n",
    "location = \"\"\n",
    "permalink = \"\"\n",
    "title = \"\"\n",
    "\n",
    "# Perform geolocation\n",
    "for talk in data:\n",
    "    \n",
    "    # Press on if the location is not present\n",
    "    if 'location' not in talk:\n",
    "        continue\n",
    "\n",
    "    # Prepare the description\n",
    "    date = talk['date']\n",
    "    title = talk['title'].strip()\n",
    "    location = talk['location'].strip()\n",
    "    venue = talk['venue'].strip()\n",
    "    description = f\"{date}<br>{title}\"\n",
    "    description += \"<br>\" + add_with_link(talk, 'venue')\n",
    "    if \"institution\" in talk:\n",
    "        description += \"<br>\" + add_with_link(talk, 'institution')\n",
    "    if \"video\" in talk:\n",
    "        url_video = talk[\"video\"]\n",
    "        description += f'<br><a href=\"{url_video}\" target=\"_blank\" rel=\"noopener noreferrer\">Video</a>'\n",
    "    description = center(description)\n",
    "\n",
    "    # print(description)\n",
    "    \n",
    "    # Geocode the location and report the status\n",
    "    try:\n",
    "        location_dict[description] = geocoder.geocode(location, timeout=TIMEOUT)\n",
    "        print(description, location_dict[description])\n",
    "    except ValueError as ex:\n",
    "        print(f\"Error: geocode failed on input {location} with message {ex}\")\n",
    "    except GeocoderTimedOut as ex:\n",
    "        print(f\"Error: geocode timed out on input {location} with message {ex}\")\n",
    "    except Exception as ex:\n",
    "        print(f\"An unhandled exception occurred while processing input {location} with message {ex}\")\n",
    "\n",
    "# Save the map\n",
    "m = getorg.orgmap.create_map_obj()\n",
    "getorg.orgmap.output_html_cluster_map(location_dict, folder_name=\"talkmap\", hashed_usernames=False)"
   ]
  },
  {
   "cell_type": "code",
   "execution_count": null,
   "metadata": {},
   "outputs": [],
   "source": []
  }
 ],
 "metadata": {
  "anaconda-cloud": {},
  "kernelspec": {
   "display_name": "Python 3 (ipykernel)",
   "language": "python",
   "name": "python3"
  },
  "language_info": {
   "codemirror_mode": {
    "name": "ipython",
    "version": 3
   },
   "file_extension": ".py",
   "mimetype": "text/x-python",
   "name": "python",
   "nbconvert_exporter": "python",
   "pygments_lexer": "ipython3",
   "version": "3.9.19"
  }
 },
 "nbformat": 4,
 "nbformat_minor": 4
}
